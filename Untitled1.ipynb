{
 "cells": [
  {
   "cell_type": "code",
   "execution_count": null,
   "metadata": {},
   "outputs": [
    {
     "name": "stderr",
     "output_type": "stream",
     "text": [
      "Downloading:  58%|██████████████████████████████▎                     | 14020243/24084762 [22:04<15:18, 10958.45rows/s]"
     ]
    }
   ],
   "source": [
    "import pandas\n",
    "import pandas_gbq\n",
    "\n",
    "# TODO: Set project_id to your Google Cloud Platform project ID.\n",
    "project_id = \"plucky-courier-292500\"\n",
    "\n",
    "sql = \"\"\"\n",
    "SELECT latitude, longitude, year, month, day, air_temperature, sea_surface_temp\n",
    "FROM `bigquery-public-data.noaa_icoads.icoads_core_2016`\n",
    "WHERE latitude >=15.623\n",
    "AND latitude <=47.279\n",
    "AND longitude >=-98.965\n",
    "AND longitude <=-59.063\n",
    "\"\"\"\n",
    "\n",
    "df = pandas_gbq.read_gbq(sql, project_id=project_id)"
   ]
  },
  {
   "cell_type": "code",
   "execution_count": 23,
   "metadata": {},
   "outputs": [
    {
     "data": {
      "text/html": [
       "<div>\n",
       "<style scoped>\n",
       "    .dataframe tbody tr th:only-of-type {\n",
       "        vertical-align: middle;\n",
       "    }\n",
       "\n",
       "    .dataframe tbody tr th {\n",
       "        vertical-align: top;\n",
       "    }\n",
       "\n",
       "    .dataframe thead th {\n",
       "        text-align: right;\n",
       "    }\n",
       "</style>\n",
       "<table border=\"1\" class=\"dataframe\">\n",
       "  <thead>\n",
       "    <tr style=\"text-align: right;\">\n",
       "      <th></th>\n",
       "      <th>latitude</th>\n",
       "      <th>longitude</th>\n",
       "      <th>year</th>\n",
       "      <th>month</th>\n",
       "      <th>day</th>\n",
       "      <th>air_temperature</th>\n",
       "      <th>sea_surface_temp</th>\n",
       "    </tr>\n",
       "  </thead>\n",
       "  <tbody>\n",
       "    <tr>\n",
       "      <th>0</th>\n",
       "      <td>17.9</td>\n",
       "      <td>-68.0</td>\n",
       "      <td>2014</td>\n",
       "      <td>1</td>\n",
       "      <td>9</td>\n",
       "      <td>30.0</td>\n",
       "      <td>NaN</td>\n",
       "    </tr>\n",
       "    <tr>\n",
       "      <th>1</th>\n",
       "      <td>25.6</td>\n",
       "      <td>-84.2</td>\n",
       "      <td>2014</td>\n",
       "      <td>1</td>\n",
       "      <td>15</td>\n",
       "      <td>17.0</td>\n",
       "      <td>23.0</td>\n",
       "    </tr>\n",
       "    <tr>\n",
       "      <th>2</th>\n",
       "      <td>26.6</td>\n",
       "      <td>-87.4</td>\n",
       "      <td>2014</td>\n",
       "      <td>1</td>\n",
       "      <td>30</td>\n",
       "      <td>16.1</td>\n",
       "      <td>21.1</td>\n",
       "    </tr>\n",
       "    <tr>\n",
       "      <th>3</th>\n",
       "      <td>27.5</td>\n",
       "      <td>-76.9</td>\n",
       "      <td>2014</td>\n",
       "      <td>1</td>\n",
       "      <td>8</td>\n",
       "      <td>20.0</td>\n",
       "      <td>26.0</td>\n",
       "    </tr>\n",
       "    <tr>\n",
       "      <th>4</th>\n",
       "      <td>33.9</td>\n",
       "      <td>-76.3</td>\n",
       "      <td>2014</td>\n",
       "      <td>1</td>\n",
       "      <td>12</td>\n",
       "      <td>22.0</td>\n",
       "      <td>23.0</td>\n",
       "    </tr>\n",
       "  </tbody>\n",
       "</table>\n",
       "</div>"
      ],
      "text/plain": [
       "   latitude  longitude  year  month  day  air_temperature  sea_surface_temp\n",
       "0      17.9      -68.0  2014      1    9             30.0               NaN\n",
       "1      25.6      -84.2  2014      1   15             17.0              23.0\n",
       "2      26.6      -87.4  2014      1   30             16.1              21.1\n",
       "3      27.5      -76.9  2014      1    8             20.0              26.0\n",
       "4      33.9      -76.3  2014      1   12             22.0              23.0"
      ]
     },
     "execution_count": 23,
     "metadata": {},
     "output_type": "execute_result"
    }
   ],
   "source": [
    "df2016=df\n",
    "df2016.head()"
   ]
  },
  {
   "cell_type": "code",
   "execution_count": 24,
   "metadata": {},
   "outputs": [],
   "source": [
    "compression_opts = dict(method='zip',\n",
    "                        archive_name='df2016.csv')  \n",
    "df.to_csv('df2016.zip', index=False,\n",
    "          compression=compression_opts) "
   ]
  },
  {
   "cell_type": "code",
   "execution_count": null,
   "metadata": {},
   "outputs": [],
   "source": [
    "import pandas\n",
    "import pandas_gbq\n",
    "\n",
    "# TODO: Set project_id to your Google Cloud Platform project ID.\n",
    "project_id = \"plucky-courier-292500\"\n",
    "\n",
    "sql = \"\"\"\n",
    "SELECT latitude, longitude, year, month, day, air_temperature, sea_surface_temp\n",
    "FROM `bigquery-public-data.noaa_icoads.icoads_core_2017`\n",
    "WHERE latitude >=15.623\n",
    "AND latitude <=47.279\n",
    "AND longitude >=-98.965\n",
    "AND longitude <=-59.063\n",
    "\"\"\"\n",
    "\n",
    "df = pandas_gbq.read_gbq(sql, project_id=project_id)"
   ]
  },
  {
   "cell_type": "code",
   "execution_count": null,
   "metadata": {},
   "outputs": [],
   "source": [
    "# PULL IN DEPENDENCIES AND MAKE CONNECTION\n",
    "import sqlite3\n",
    "\n",
    "conn = sqlite3.connect('?????.db')\n",
    "\n",
    "from datetime import datetime\n",
    "\n",
    "from flask import Flask\n",
    "\n",
    "from flask_sqlalchemy import SQLAlchemy"
   ]
  },
  {
   "cell_type": "code",
   "execution_count": null,
   "metadata": {},
   "outputs": [],
   "source": [
    "# CREATE TABLE IF NEEDED\n",
    "\n",
    "conn.execute(\"\"\"CREATE TABLE IF NOT EXISTS air_sea_temps (\n",
    "                latitude FLOAT,\n",
    "                longitude FLOAT,\n",
    "                year INTEGER,\n",
    "                month INTEGER,\n",
    "                day INTEGER,\n",
    "                air_temperature FLOAT,    \n",
    "                sea_surface_temp FLOAT     \n",
    "                )\"\"\")\n",
    "\n",
    "# # ADD VALUES IF NEEDED\n",
    "# values = ('Deep Learning', \n",
    "#           'Ian Goodfellow et al.', \n",
    "#           775, \n",
    "#           datetime(2016, 11, 18).timestamp())\n",
    "\n",
    "# #EXECUTE COMMAND\n",
    "# conn.execute(\"\"\"INSERT INTO books VALUES (?, ?, ?, ?)\"\"\", values)\n",
    "\n",
    "#QUERY\n",
    "r = conn.execute(\"\"\"SELECT * FROM ?????\"\"\")\n",
    "r.fetchall()"
   ]
  }
 ],
 "metadata": {
  "kernelspec": {
   "display_name": "Python 3",
   "language": "python",
   "name": "python3"
  },
  "language_info": {
   "codemirror_mode": {
    "name": "ipython",
    "version": 3
   },
   "file_extension": ".py",
   "mimetype": "text/x-python",
   "name": "python",
   "nbconvert_exporter": "python",
   "pygments_lexer": "ipython3",
   "version": "3.7.6"
  }
 },
 "nbformat": 4,
 "nbformat_minor": 4
}
